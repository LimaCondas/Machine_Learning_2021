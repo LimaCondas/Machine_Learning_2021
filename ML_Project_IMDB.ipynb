{
  "nbformat": 4,
  "nbformat_minor": 0,
  "metadata": {
    "colab": {
      "name": "ML_Project.ipynb",
      "provenance": [],
      "authorship_tag": "ABX9TyN+WFxgzGNNB+foUWJc1CJR",
      "include_colab_link": true
    },
    "kernelspec": {
      "name": "python3",
      "display_name": "Python 3"
    },
    "language_info": {
      "name": "python"
    }
  },
  "cells": [
    {
      "cell_type": "markdown",
      "metadata": {
        "id": "view-in-github",
        "colab_type": "text"
      },
      "source": [
        "<a href=\"https://colab.research.google.com/github/LimaCondas/Machine_Learning_2021/blob/main/ML_Project_IMDB.ipynb\" target=\"_parent\"><img src=\"https://colab.research.google.com/assets/colab-badge.svg\" alt=\"Open In Colab\"/></a>"
      ]
    },
    {
      "cell_type": "markdown",
      "metadata": {
        "id": "CqMFQW-xH5Fh"
      },
      "source": [
        "# 机器学习-工程作业\n",
        "\n",
        "**数据集**：IMDB数据集，包含来自互联网电影数据库（IMDB）的50000条严重两极分化的评论。数据集被分为用于训练的25000条评论和用于测试的25000条评论，训练集和测试集中都包括50%的正面评价和50%的负面评价。IMDB数据集内置于Keras库中，它已经过预处理，单词序列的评论已经被转换为整数序列，其中每个整数代表字典中的某个单词。\n",
        "\n",
        "\n",
        "**任务**：请在训练数据中选择前10000个最常出现的单词，并且在预训练的网络之上构建分类器。\n"
      ]
    },
    {
      "cell_type": "markdown",
      "metadata": {
        "id": "WfnMMbquIDlA"
      },
      "source": [
        "**数据集使用说明**\n",
        "Tensorflow\n",
        "* 读取命令\n",
        "from keras.datasets import imdb\n",
        "\n",
        "  (train_data, train_labels), (test_data, test_labels) = imdb.load_data()\n",
        "\n",
        "* imdb.load_data()函数说明：#https://blog.csdn.net/weixin_42272768/article/details/112093163 \n",
        "Pytorch\n",
        "简便方法：使用上面命令下载好数据集后用相关命令转化为tensor数据类型即可。\n",
        "提醒：上面方法下载的数据集是已经处理好转化为整数序列，比较简便。另有torchtext导入的数据集为原始字符串还需要经过分词，建立词典，词向量嵌入等工作，较为复杂，有兴趣做NLP的同学可以自己探索，多去了解。\n",
        "原始数据集下载\n",
        "想看原始评论数据集（字符串形式）可以去下述网站下载数据包。\n",
        "http://ai.stanford.edu/~amaas/data/sentiment/\n"
      ]
    },
    {
      "cell_type": "markdown",
      "metadata": {
        "id": "eocg8lAuJwvn"
      },
      "source": [
        "## 代码"
      ]
    },
    {
      "cell_type": "markdown",
      "metadata": {
        "id": "IshM7--zJ05-"
      },
      "source": [
        "调用 Keras库"
      ]
    },
    {
      "cell_type": "code",
      "metadata": {
        "id": "bZU8e6h_IIyF"
      },
      "source": [
        "from keras.datasets import imdb\n",
        "(train_data, train_labels), (test_data, test_labels) = imdb.load_data()\n",
        "import numpy as np\n",
        "from keras import models\n",
        "from keras import layers\n",
        "import matplotlib.pyplot as plt"
      ],
      "execution_count": null,
      "outputs": []
    }
  ]
}