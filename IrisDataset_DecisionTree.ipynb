{
  "nbformat": 4,
  "nbformat_minor": 0,
  "metadata": {
    "colab": {
      "name": "IrisDataset_DecisionTree.ipynb",
      "provenance": [],
      "collapsed_sections": [],
      "include_colab_link": true
    },
    "kernelspec": {
      "display_name": "Python 3",
      "language": "python",
      "name": "python3"
    },
    "language_info": {
      "codemirror_mode": {
        "name": "ipython",
        "version": 3
      },
      "file_extension": ".py",
      "mimetype": "text/x-python",
      "name": "python",
      "nbconvert_exporter": "python",
      "pygments_lexer": "ipython3",
      "version": "3.7.6"
    }
  },
  "cells": [
    {
      "cell_type": "markdown",
      "metadata": {
        "id": "view-in-github",
        "colab_type": "text"
      },
      "source": [
        "<a href=\"https://colab.research.google.com/github/LimaCondas/Machine_Learning_2021/blob/main/IrisDataset_DecisionTree.ipynb\" target=\"_parent\"><img src=\"https://colab.research.google.com/assets/colab-badge.svg\" alt=\"Open In Colab\"/></a>"
      ]
    },
    {
      "cell_type": "markdown",
      "metadata": {
        "id": "JunPuQs6kmWx"
      },
      "source": [
        "# 机器学习作业——鸢尾花的决策树\n",
        "2021/11/16\n",
        "\n",
        "本周作业要求：在python中“from sklearn.datasets import load_iris”调取鸢尾花数据集, 按照今天课堂讲的内容，实现以下两个任务：\n",
        "1. 样本训练集和验证集划分；\n",
        "2. 训练决策树分类模型，并达到 90% 的分类准确率，并 print 分类准确率。\n"
      ]
    },
    {
      "cell_type": "markdown",
      "metadata": {
        "id": "YTg2wnSXf3zr"
      },
      "source": [
        "导入鸢尾花数据集"
      ]
    },
    {
      "cell_type": "code",
      "metadata": {
        "id": "RZJJC_kspJeL"
      },
      "source": [
        "from sklearn import datasets \n",
        "iris = datasets.load_iris() #load_iris is a function\n",
        "                            #不能直接 load_iris()\n",
        "\n",
        "from sklearn import preprocessing\n",
        "from sklearn.model_selection import train_test_split\n",
        "from sklearn.tree import DecisionTreeClassifier\n",
        "from sklearn.metrics import accuracy_score"
      ],
      "execution_count": 23,
      "outputs": []
    },
    {
      "cell_type": "markdown",
      "metadata": {
        "id": "XirYwfNQ55Ws"
      },
      "source": [
        "读取 Iris 数据集特征"
      ]
    },
    {
      "cell_type": "code",
      "metadata": {
        "id": "6tsXdmHt5Zos"
      },
      "source": [
        "x = iris.data     #数据特征\n",
        "y = iris.target   #品种信息 [0, 1, 2]"
      ],
      "execution_count": 24,
      "outputs": []
    },
    {
      "cell_type": "markdown",
      "metadata": {
        "id": "hV-Z3Zib6uyW"
      },
      "source": [
        "划分样本训练集80%, 测试集20%"
      ]
    },
    {
      "cell_type": "code",
      "metadata": {
        "id": "KYpsWXFq6zB7"
      },
      "source": [
        "x_train, x_test, y_train, y_test = \\\n",
        "              train_test_split(x, y, test_size = 0.2, random_state = 1)"
      ],
      "execution_count": 25,
      "outputs": []
    },
    {
      "cell_type": "markdown",
      "metadata": {
        "id": "D5rW_Xhm-Bis"
      },
      "source": [
        "CART 算法，利用训练集进行拟合，利用测试集进行预测"
      ]
    },
    {
      "cell_type": "code",
      "metadata": {
        "id": "kM0jdmO9-B2T"
      },
      "source": [
        "clf = DecisionTreeClassifier()\n",
        "clf.fit(x_train,y_train)\n",
        "predicted = clf.predict(x_test)"
      ],
      "execution_count": 26,
      "outputs": []
    },
    {
      "cell_type": "markdown",
      "metadata": {
        "id": "tBs2Q4nf_Pow"
      },
      "source": [
        "利用测试集进行预测，并显示分类准确率"
      ]
    },
    {
      "cell_type": "code",
      "metadata": {
        "colab": {
          "base_uri": "https://localhost:8080/"
        },
        "id": "rkUT5JVJ_bWw",
        "outputId": "76b29df1-68a0-4d48-953c-29d37bb8b718"
      },
      "source": [
        "print('predict_results:', predicted)\n",
        "print('target_test:', y_test)\n",
        "print('Accuracy', accuracy_score(predicted, y_test))"
      ],
      "execution_count": 27,
      "outputs": [
        {
          "output_type": "stream",
          "name": "stdout",
          "text": [
            "predict_results: [0 1 1 0 2 1 2 0 0 2 1 0 2 1 1 0 1 1 0 0 1 1 2 0 2 1 0 0 1 2]\n",
            "target_test: [0 1 1 0 2 1 2 0 0 2 1 0 2 1 1 0 1 1 0 0 1 1 1 0 2 1 0 0 1 2]\n",
            "Accuracy 0.9666666666666667\n"
          ]
        }
      ]
    },
    {
      "cell_type": "markdown",
      "metadata": {
        "id": "8MXzXiRuG30t"
      },
      "source": [
        "画出决策树"
      ]
    },
    {
      "cell_type": "code",
      "metadata": {
        "colab": {
          "base_uri": "https://localhost:8080/",
          "height": 35
        },
        "id": "evPOR8kAG3M1",
        "outputId": "158a4f76-4b49-41dc-a2a9-82d3de05e07f"
      },
      "source": [
        "from sklearn import tree\n",
        "from sklearn.model_selection import train_test_split\n",
        "# 绘制决策树\n",
        "import graphviz\n",
        "\n",
        "# 数据特征名称\n",
        "feature_names = iris.feature_names\n",
        "# 品种信息名\n",
        "target_names = iris.target_names\n",
        "\n",
        "clf_dot = tree.export_graphviz(clf, \n",
        "                                   out_file= None,\n",
        "                                   feature_names= feature_names,\n",
        "                                   class_names= target_names,\n",
        "                                   filled= True,\n",
        "                                   rounded= True)\n",
        "    # 显示绘制的模型，在当前目录下，保存为png模式\n",
        "graph = graphviz.Source(clf_dot, \n",
        "    \t\t\t\t\t\tfilename= \"iris_decisionTree.gv\", \n",
        "    \t\t\t\t\t\tformat= \"png\")\n",
        "graph.view()"
      ],
      "execution_count": 28,
      "outputs": [
        {
          "output_type": "execute_result",
          "data": {
            "application/vnd.google.colaboratory.intrinsic+json": {
              "type": "string"
            },
            "text/plain": [
              "'iris_decisionTree.gv.png'"
            ]
          },
          "metadata": {},
          "execution_count": 28
        }
      ]
    }
  ]
}