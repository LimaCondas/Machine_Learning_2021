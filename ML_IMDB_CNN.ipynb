{
  "nbformat": 4,
  "nbformat_minor": 0,
  "metadata": {
    "colab": {
      "name": "ML_IMDB_CNN.ipynb",
      "provenance": [],
      "collapsed_sections": [],
      "authorship_tag": "ABX9TyM2NeqQgCIx+4eT50ZmZqDX",
      "include_colab_link": true
    },
    "kernelspec": {
      "name": "python3",
      "display_name": "Python 3"
    },
    "language_info": {
      "name": "python"
    }
  },
  "cells": [
    {
      "cell_type": "markdown",
      "metadata": {
        "id": "view-in-github",
        "colab_type": "text"
      },
      "source": [
        "<a href=\"https://colab.research.google.com/github/LimaCondas/Machine_Learning_2021/blob/main/ML_IMDB_CNN.ipynb\" target=\"_parent\"><img src=\"https://colab.research.google.com/assets/colab-badge.svg\" alt=\"Open In Colab\"/></a>"
      ]
    },
    {
      "cell_type": "markdown",
      "source": [
        "# 利用卷积神经网络对 IMDB 数据进行文本分类"
      ],
      "metadata": {
        "id": "4Sx4D-Z_homX"
      }
    },
    {
      "cell_type": "markdown",
      "source": [
        "## 引入实验中所涉及到的包\n",
        "数据集包、数据预处理包、网络模型包、网络各层结构所对应的包"
      ],
      "metadata": {
        "id": "jEqt73B5hciZ"
      }
    },
    {
      "cell_type": "code",
      "execution_count": 1,
      "metadata": {
        "id": "jCa3D00yhB21"
      },
      "outputs": [],
      "source": [
        "from keras.preprocessing import sequence\n",
        "from keras.models import Sequential \n",
        "from keras.layers import Dense,Dropout,Activation \n",
        "from keras.layers import Embedding \n",
        "from keras.layers import Conv1D,GlobalMaxPooling1D \n",
        "from keras.datasets import imdb\n",
        "import matplotlib.pyplot as plt\n",
        "import keras.metrics"
      ]
    },
    {
      "cell_type": "markdown",
      "source": [
        "##定义绘制性能曲线函数"
      ],
      "metadata": {
        "id": "X3w5OxUWKXQL"
      }
    },
    {
      "cell_type": "code",
      "source": [
        "#写一个LossHistory类，保存loss和acc\n",
        "class LossHistory(keras.callbacks.Callback):\n",
        "  def on_train_begin(self, logs={}):\n",
        "    self.losses = {'batch':[], 'epoch':[]}\n",
        "    self.accuracy = {'batch':[], 'epoch':[]}\n",
        "    self.val_loss = {'batch':[], 'epoch':[]}\n",
        "    self.val_acc = {'batch':[], 'epoch':[]}\n",
        "  def on_batch_end(self, batch, logs={}):\n",
        "    self.losses['batch'].append(logs.get('loss'))\n",
        "    self.accuracy['batch'].append(logs.get('acc'))\n",
        "    self.val_loss['batch'].append(logs.get('val_loss'))\n",
        "    self.val_acc['batch'].append(logs.get('val_acc'))\n",
        "  def on_epoch_end(self, batch, logs={}):\n",
        "    self.losses['epoch'].append(logs.get('loss'))\n",
        "    self.accuracy['epoch'].append(logs.get('acc'))\n",
        "    self.val_loss['epoch'].append(logs.get('val_loss'))\n",
        "    self.val_acc['epoch'].append(logs.get('val_acc'))\n",
        "  def loss_plot(self, loss_type):\n",
        "    iters = range(len(self.losses[loss_type]))\n",
        "    plt.figure()\n",
        "    # acc\n",
        "    #plt.plot(iters, self.accuracy[loss_type], 'r', label='train acc')\n",
        "    # loss\n",
        "    plt.plot(iters, self.losses[loss_type], 'g', label='train loss')\n",
        "    if loss_type == 'epoch':\n",
        "      # val_acc\n",
        "      #plt.plot(iters, self.val_acc[loss_type], 'b', label='val acc')\n",
        "      # val_loss\n",
        "      plt.plot(iters, self.val_loss[loss_type], 'k', label='val loss')\n",
        "    plt.grid(True)\n",
        "    plt.xlabel(loss_type)\n",
        "    plt.ylabel('acc-loss')\n",
        "    plt.legend(loc=\"upper right\")\n",
        "    plt.show()"
      ],
      "metadata": {
        "id": "48BlLWUEGy5I"
      },
      "execution_count": 2,
      "outputs": []
    },
    {
      "cell_type": "markdown",
      "source": [
        "##定义评价参数"
      ],
      "metadata": {
        "id": "5BXjlw6psWBF"
      }
    },
    {
      "cell_type": "code",
      "source": [
        "METRICS = [\n",
        "      keras.metrics.TruePositives(name='tp'),\n",
        "      keras.metrics.FalsePositives(name='fp'),\n",
        "      keras.metrics.TrueNegatives(name='tn'),\n",
        "      keras.metrics.FalseNegatives(name='fn'), \n",
        "      keras.metrics.BinaryAccuracy(name='accuracy'),\n",
        "      keras.metrics.Precision(name='precision'),\n",
        "      keras.metrics.Recall(name='recall'),\n",
        "      keras.metrics.AUC(name='auc'),\n",
        "]"
      ],
      "metadata": {
        "id": "1-5YG9zUsYFo"
      },
      "execution_count": 3,
      "outputs": []
    },
    {
      "cell_type": "markdown",
      "source": [
        "## 设置网络结构中的一些常数\n",
        "包含了两方面的常数\n",
        "1. 数据处理过程中，词向量维度，词汇表长度等\n",
        "2. 网络结构中参数"
      ],
      "metadata": {
        "id": "1TYsYtABhhQA"
      }
    },
    {
      "cell_type": "code",
      "source": [
        "# 设置词汇表的长度，在数据预处理过程中，选择词汇字典中前max_features索引的词汇。 \n",
        "max_features = 10000 \n",
        "# 将每个句子填充或截断至maxlen长度 \n",
        "maxlen = 400\n",
        "\n",
        "# 设置词向量的维度 \n",
        "embedding_dims = 50 \n",
        "filters = 250 \n",
        "kernel_size = 3\n",
        "\n",
        "# 设置全连接层中，神经元的个数, 批处理量\n",
        "batch_size = 16\n",
        "hidden_dims = 500 \n",
        "epochs = 10"
      ],
      "metadata": {
        "id": "UmIF0jF_hT2v"
      },
      "execution_count": 4,
      "outputs": []
    },
    {
      "cell_type": "markdown",
      "source": [
        "## 加载数据与数据预处理"
      ],
      "metadata": {
        "id": "YH4X1ygLhuxv"
      }
    },
    {
      "cell_type": "code",
      "source": [
        "print(\"============ Loading data... ============\") \n",
        "(x_train,y_train),(x_test,y_test) = imdb.load_data(num_words = max_features) \n",
        "print(len(x_train),\"train sequences\") \n",
        "print(len(x_test),\"test sequences\") \n",
        "print(\"pad sequences (samples*time)\") \n",
        "# 填充每一条数据使所有的数据维度相同\n",
        "x_train=sequence.pad_sequences(x_train,maxlen=maxlen) \n",
        "x_test=sequence.pad_sequences(x_test,maxlen=maxlen) \n",
        "print(\"x_train.shape:\",x_train.shape) \n",
        "print(\"x_test.shape:\",x_test.shape)"
      ],
      "metadata": {
        "colab": {
          "base_uri": "https://localhost:8080/"
        },
        "id": "stNhWEzghuYO",
        "outputId": "00b51af2-110b-406e-a9cc-882b93aa9633"
      },
      "execution_count": 5,
      "outputs": [
        {
          "output_type": "stream",
          "name": "stdout",
          "text": [
            "==== Loading data... ====\n",
            "Downloading data from https://storage.googleapis.com/tensorflow/tf-keras-datasets/imdb.npz\n",
            "17465344/17464789 [==============================] - 0s 0us/step\n",
            "17473536/17464789 [==============================] - 0s 0us/step\n",
            "25000 train sequences\n",
            "25000 test sequences\n",
            "pad sequences (samples*time)\n",
            "x_train.shape: (25000, 400)\n",
            "x_test.shape: (25000, 400)\n"
          ]
        }
      ]
    },
    {
      "cell_type": "markdown",
      "source": [
        "##建立模型"
      ],
      "metadata": {
        "id": "0RJQFJHSh6e7"
      }
    },
    {
      "cell_type": "code",
      "source": [
        "print(\"============ Building Model... ============\") \n",
        "# 采用序列模型 \n",
        "model=Sequential() \n",
        "# 添加词嵌入层作为神经网络的第一层\n",
        "# 添加 Dropout 防止过拟合\n",
        "model.add(Embedding(max_features,embedding_dims,input_length=maxlen)) \n",
        "model.add(Dropout(0.4)) \n",
        "model.add(Conv1D(filters,kernel_size,padding=\"valid\",activation='relu',strides=1)) \n",
        "# 使用 Maxpooling 最大池化层\n",
        "model.add(GlobalMaxPooling1D()) \n",
        "# 添加全连接层 \n",
        "model.add(Dense(hidden_dims)) \n",
        "model.add(Dropout(0.4)) \n",
        "model.add(Activation('relu')) \n",
        "# 输出层\n",
        "model.add(Dense(1)) \n",
        "model.add(Activation(\"sigmoid\")) \n",
        "model.compile(loss=\"binary_crossentropy\", optimizer='RMSprop', metrics = METRICS)\n",
        "history_loss = LossHistory()\n",
        "#创建一个实例 history 用于保存输出结果\n",
        "history = model.fit(x_train,y_train,batch_size=batch_size,epochs=epochs,validation_data=(x_test,y_test), callbacks=[history_loss])"
      ],
      "metadata": {
        "colab": {
          "base_uri": "https://localhost:8080/"
        },
        "id": "AC46MyWVh6U6",
        "outputId": "d0b57ebe-20dc-4939-e9b7-1bba46f3e194"
      },
      "execution_count": 6,
      "outputs": [
        {
          "output_type": "stream",
          "name": "stdout",
          "text": [
            "============ Building Model... ============\n",
            "Epoch 1/10\n",
            "1563/1563 [==============================] - 80s 50ms/step - loss: 0.4408 - tp: 9880.0000 - fp: 2800.0000 - tn: 9700.0000 - fn: 2620.0000 - accuracy: 0.7832 - precision: 0.7792 - recall: 0.7904 - auc: 0.8750 - val_loss: 0.2941 - val_tp: 10872.0000 - val_fp: 1502.0000 - val_tn: 10998.0000 - val_fn: 1628.0000 - val_accuracy: 0.8748 - val_precision: 0.8786 - val_recall: 0.8698 - val_auc: 0.9476\n",
            "Epoch 2/10\n",
            "1563/1563 [==============================] - 77s 49ms/step - loss: 0.3035 - tp: 10978.0000 - fp: 1611.0000 - tn: 10889.0000 - fn: 1522.0000 - accuracy: 0.8747 - precision: 0.8720 - recall: 0.8782 - auc: 0.9445 - val_loss: 0.2838 - val_tp: 10399.0000 - val_fp: 852.0000 - val_tn: 11648.0000 - val_fn: 2101.0000 - val_accuracy: 0.8819 - val_precision: 0.9243 - val_recall: 0.8319 - val_auc: 0.9578\n",
            "Epoch 3/10\n",
            "1563/1563 [==============================] - 76s 49ms/step - loss: 0.2706 - tp: 11151.0000 - fp: 1408.0000 - tn: 11092.0000 - fn: 1349.0000 - accuracy: 0.8897 - precision: 0.8879 - recall: 0.8921 - auc: 0.9563 - val_loss: 0.2671 - val_tp: 10558.0000 - val_fp: 864.0000 - val_tn: 11636.0000 - val_fn: 1942.0000 - val_accuracy: 0.8878 - val_precision: 0.9244 - val_recall: 0.8446 - val_auc: 0.9612\n",
            "Epoch 4/10\n",
            "1563/1563 [==============================] - 77s 49ms/step - loss: 0.2557 - tp: 11244.0000 - fp: 1268.0000 - tn: 11232.0000 - fn: 1256.0000 - accuracy: 0.8990 - precision: 0.8987 - recall: 0.8995 - auc: 0.9614 - val_loss: 0.2480 - val_tp: 11184.0000 - val_fp: 1196.0000 - val_tn: 11304.0000 - val_fn: 1316.0000 - val_accuracy: 0.8995 - val_precision: 0.9034 - val_recall: 0.8947 - val_auc: 0.9627\n",
            "Epoch 5/10\n",
            "1563/1563 [==============================] - 77s 49ms/step - loss: 0.2452 - tp: 11297.0000 - fp: 1212.0000 - tn: 11288.0000 - fn: 1203.0000 - accuracy: 0.9034 - precision: 0.9031 - recall: 0.9038 - auc: 0.9645 - val_loss: 0.2496 - val_tp: 11420.0000 - val_fp: 1419.0000 - val_tn: 11081.0000 - val_fn: 1080.0000 - val_accuracy: 0.9000 - val_precision: 0.8895 - val_recall: 0.9136 - val_auc: 0.9635\n",
            "Epoch 6/10\n",
            "1563/1563 [==============================] - 78s 50ms/step - loss: 0.2319 - tp: 11357.0000 - fp: 1106.0000 - tn: 11394.0000 - fn: 1143.0000 - accuracy: 0.9100 - precision: 0.9113 - recall: 0.9086 - auc: 0.9684 - val_loss: 0.2853 - val_tp: 10258.0000 - val_fp: 635.0000 - val_tn: 11865.0000 - val_fn: 2242.0000 - val_accuracy: 0.8849 - val_precision: 0.9417 - val_recall: 0.8206 - val_auc: 0.9629\n",
            "Epoch 7/10\n",
            "1563/1563 [==============================] - 77s 49ms/step - loss: 0.2230 - tp: 11425.0000 - fp: 1031.0000 - tn: 11469.0000 - fn: 1075.0000 - accuracy: 0.9158 - precision: 0.9172 - recall: 0.9140 - auc: 0.9709 - val_loss: 0.2453 - val_tp: 11223.0000 - val_fp: 1180.0000 - val_tn: 11320.0000 - val_fn: 1277.0000 - val_accuracy: 0.9017 - val_precision: 0.9049 - val_recall: 0.8978 - val_auc: 0.9643\n",
            "Epoch 8/10\n",
            "1563/1563 [==============================] - 78s 50ms/step - loss: 0.2152 - tp: 11494.0000 - fp: 962.0000 - tn: 11538.0000 - fn: 1006.0000 - accuracy: 0.9213 - precision: 0.9228 - recall: 0.9195 - auc: 0.9733 - val_loss: 0.2527 - val_tp: 10675.0000 - val_fp: 768.0000 - val_tn: 11732.0000 - val_fn: 1825.0000 - val_accuracy: 0.8963 - val_precision: 0.9329 - val_recall: 0.8540 - val_auc: 0.9642\n",
            "Epoch 9/10\n",
            "1563/1563 [==============================] - 78s 50ms/step - loss: 0.2087 - tp: 11495.0000 - fp: 963.0000 - tn: 11537.0000 - fn: 1005.0000 - accuracy: 0.9213 - precision: 0.9227 - recall: 0.9196 - auc: 0.9748 - val_loss: 0.2442 - val_tp: 11085.0000 - val_fp: 1050.0000 - val_tn: 11450.0000 - val_fn: 1415.0000 - val_accuracy: 0.9014 - val_precision: 0.9135 - val_recall: 0.8868 - val_auc: 0.9646\n",
            "Epoch 10/10\n",
            "1563/1563 [==============================] - 78s 50ms/step - loss: 0.2008 - tp: 11558.0000 - fp: 931.0000 - tn: 11569.0000 - fn: 942.0000 - accuracy: 0.9251 - precision: 0.9255 - recall: 0.9246 - auc: 0.9764 - val_loss: 0.2471 - val_tp: 11234.0000 - val_fp: 1238.0000 - val_tn: 11262.0000 - val_fn: 1266.0000 - val_accuracy: 0.8998 - val_precision: 0.9007 - val_recall: 0.8987 - val_auc: 0.9644\n"
          ]
        }
      ]
    },
    {
      "cell_type": "markdown",
      "source": [
        "##画出相关结果图表"
      ],
      "metadata": {
        "id": "z-pekswdoT-2"
      }
    },
    {
      "cell_type": "code",
      "source": [
        "#模型评估\n",
        "score = model.evaluate(x_test, y_test, verbose=0)\n",
        "print('Test score:', score[0])\n",
        "print('Test accuracy:', score[1])\n",
        "#绘制acc-loss曲线\n",
        "history_loss.loss_plot('epoch')"
      ],
      "metadata": {
        "colab": {
          "base_uri": "https://localhost:8080/",
          "height": 317
        },
        "id": "0leCu7z_Aiyv",
        "outputId": "6a0b047e-8f7c-401b-e908-312fa59651d5"
      },
      "execution_count": 7,
      "outputs": [
        {
          "output_type": "stream",
          "name": "stdout",
          "text": [
            "Test score: 0.2470541000366211\n",
            "Test accuracy: 11234.0\n"
          ]
        },
        {
          "output_type": "display_data",
          "data": {
            "image/png": "[encoded data removed]",
            "text/plain": [
              "<Figure size 432x288 with 1 Axes>"
            ]
          },
          "metadata": {
            "needs_background": "light"
          }
        }
      ]
    },
    {
      "cell_type": "markdown",
      "source": [
        "## 参数评估"
      ],
      "metadata": {
        "id": "xIk21UjfK6_s"
      }
    },
    {
      "cell_type": "markdown",
      "source": [
        "###定义损失曲线、AUC曲线、精确率曲线以及召回率曲线函数"
      ],
      "metadata": {
        "id": "wsoGTXOoMYsL"
      }
    },
    {
      "cell_type": "code",
      "source": [
        "def plot_metrics(history):\n",
        "    metrics =  ['loss', 'auc', 'precision', 'recall']\n",
        "    for n, metric in enumerate(metrics):\n",
        "        name = metric\n",
        "        plt.subplot(2,2,n+1)\n",
        "        plt.plot(history.epoch,  history.history[metric], color='b', label='Train')\n",
        "        plt.plot(history.epoch, history.history['val_'+metric],\n",
        "                 color='b', linestyle=\"--\", label='Val')\n",
        "        plt.xlabel('Epoch')\n",
        "        plt.ylabel(name)\n",
        "        if metric == 'loss':\n",
        "            plt.ylim([0, plt.ylim()[1]])\n",
        "        elif metric == 'auc':\n",
        "            plt.ylim([0.8,1])\n",
        "        else:\n",
        "            plt.ylim([0,1])\n",
        "\n",
        "        plt.legend()\n",
        "plot_metrics(history)"
      ],
      "metadata": {
        "colab": {
          "base_uri": "https://localhost:8080/",
          "height": 283
        },
        "id": "ggJ9wjJtK8yx",
        "outputId": "eb348048-ac8c-4680-ff04-899d88a00e0c"
      },
      "execution_count": 10,
      "outputs": [
        {
          "output_type": "display_data",
          "data": {
            "image/png": "[encoded data removed]",
            "text/plain": [
              "<Figure size 432x288 with 4 Axes>"
            ]
          },
          "metadata": {
            "needs_background": "light"
          }
        }
      ]
    }
  ]
}